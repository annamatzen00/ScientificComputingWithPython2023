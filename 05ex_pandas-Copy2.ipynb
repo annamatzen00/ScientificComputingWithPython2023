{
 "cells": [
  {
   "cell_type": "markdown",
   "metadata": {},
   "source": [
    "1\\. **Pandas DataFrame**\n",
    "\n",
    "This exercise consists in analyzing a dataset containg timing information from a series of Time-to-Digital-Converters (TDC) implemented in a pair of FPGAs. Each measurement (i.e. each row of the input file) consists of a flag that specifies the type of message ('HEAD', which in this case is always 1), two addresses of the TDC providing the signal ('FPGA' and 'TDC_CHANNEL'), and the timing information ('ORBIT_CNT', 'BX_COUNTER', and 'TDC_MEAS'). Each TDC count corresponds to 25/30 ns, whereas a unit of BX_COUNTER corresponds to 25 ns, and the ORBIT_CNT is increased every `x` BX_COUNTER. This allows to store the time in a similar way to hours, minutes and seconds."
   ]
  },
  {
   "cell_type": "code",
   "execution_count": 3,
   "metadata": {},
   "outputs": [
    {
     "name": "stdout",
     "output_type": "stream",
     "text": [
      "--2023-11-16 10:07:08--  https://www.dropbox.com/s/xvjzaxzz3ysphme/data_000637.txt\n",
      "Resolving www.dropbox.com (www.dropbox.com)... 162.125.69.18\n",
      "Connecting to www.dropbox.com (www.dropbox.com)|162.125.69.18|:443... connected.\n",
      "HTTP request sent, awaiting response... 302 Found\n",
      "Location: /s/raw/xvjzaxzz3ysphme/data_000637.txt [following]\n",
      "--2023-11-16 10:07:09--  https://www.dropbox.com/s/raw/xvjzaxzz3ysphme/data_000637.txt\n",
      "Reusing existing connection to www.dropbox.com:443.\n",
      "HTTP request sent, awaiting response... 302 Found\n",
      "Location: https://uc6cb111206f8024929c5e38b20b.dl.dropboxusercontent.com/cd/0/inline/CHoJ_PD3dQ5KPKMW1n2wfdLwuWhYFoYFw02XERgF0klKIwRiagI6K5qfBcpDO3jCnw9QnYXMv2Jn5WxFpGQ9gMTdjqE_daIo8pZXMY5iWbtnAM1wBVaezF8cTU53ICOGBM8/file# [following]\n",
      "--2023-11-16 10:07:10--  https://uc6cb111206f8024929c5e38b20b.dl.dropboxusercontent.com/cd/0/inline/CHoJ_PD3dQ5KPKMW1n2wfdLwuWhYFoYFw02XERgF0klKIwRiagI6K5qfBcpDO3jCnw9QnYXMv2Jn5WxFpGQ9gMTdjqE_daIo8pZXMY5iWbtnAM1wBVaezF8cTU53ICOGBM8/file\n",
      "Resolving uc6cb111206f8024929c5e38b20b.dl.dropboxusercontent.com (uc6cb111206f8024929c5e38b20b.dl.dropboxusercontent.com)... 162.125.69.15\n",
      "Connecting to uc6cb111206f8024929c5e38b20b.dl.dropboxusercontent.com (uc6cb111206f8024929c5e38b20b.dl.dropboxusercontent.com)|162.125.69.15|:443... connected.\n",
      "HTTP request sent, awaiting response... 200 OK\n",
      "Length: 33179236 (32M) [text/plain]\n",
      "Saving to: './data/data_000637.txt'\n",
      "\n",
      "data_000637.txt     100%[===================>]  31.64M  80.2KB/s    in 2m 57s  \n",
      "\n",
      "2023-11-16 10:10:07 (183 KB/s) - './data/data_000637.txt' saved [33179236/33179236]\n",
      "\n"
     ]
    }
   ],
   "source": [
    "# If haven't downloaded it yet, please get the data file with wget\n",
    "!wget https://www.dropbox.com/s/xvjzaxzz3ysphme/data_000637.txt -P ./data/"
   ]
  },
  {
   "cell_type": "markdown",
   "metadata": {},
   "source": [
    "1\\. Create a Pandas DataFrame reading N rows of the `data/data_000637.txt` dataset. Choose N to be smaller than or equal to the maximum number of rows and larger that 10k (check the documentation)."
   ]
  },
  {
   "cell_type": "code",
   "execution_count": 4,
   "metadata": {},
   "outputs": [],
   "source": [
    "import pandas as pd # standard naming convention\n",
    "import numpy as np"
   ]
  },
  {
   "cell_type": "code",
   "execution_count": 7,
   "metadata": {},
   "outputs": [
    {
     "data": {
      "text/html": [
       "<div>\n",
       "<style scoped>\n",
       "    .dataframe tbody tr th:only-of-type {\n",
       "        vertical-align: middle;\n",
       "    }\n",
       "\n",
       "    .dataframe tbody tr th {\n",
       "        vertical-align: top;\n",
       "    }\n",
       "\n",
       "    .dataframe thead th {\n",
       "        text-align: right;\n",
       "    }\n",
       "</style>\n",
       "<table border=\"1\" class=\"dataframe\">\n",
       "  <thead>\n",
       "    <tr style=\"text-align: right;\">\n",
       "      <th></th>\n",
       "      <th>HEAD</th>\n",
       "      <th>FPGA</th>\n",
       "      <th>TDC_CHANNEL</th>\n",
       "      <th>ORBIT_CNT</th>\n",
       "      <th>BX_COUNTER</th>\n",
       "      <th>TDC_MEAS</th>\n",
       "    </tr>\n",
       "  </thead>\n",
       "  <tbody>\n",
       "    <tr>\n",
       "      <th>0</th>\n",
       "      <td>1</td>\n",
       "      <td>0</td>\n",
       "      <td>123</td>\n",
       "      <td>3869200167</td>\n",
       "      <td>2374</td>\n",
       "      <td>26</td>\n",
       "    </tr>\n",
       "    <tr>\n",
       "      <th>1</th>\n",
       "      <td>1</td>\n",
       "      <td>0</td>\n",
       "      <td>124</td>\n",
       "      <td>3869200167</td>\n",
       "      <td>2374</td>\n",
       "      <td>27</td>\n",
       "    </tr>\n",
       "    <tr>\n",
       "      <th>2</th>\n",
       "      <td>1</td>\n",
       "      <td>0</td>\n",
       "      <td>63</td>\n",
       "      <td>3869200167</td>\n",
       "      <td>2553</td>\n",
       "      <td>28</td>\n",
       "    </tr>\n",
       "    <tr>\n",
       "      <th>3</th>\n",
       "      <td>1</td>\n",
       "      <td>0</td>\n",
       "      <td>64</td>\n",
       "      <td>3869200167</td>\n",
       "      <td>2558</td>\n",
       "      <td>19</td>\n",
       "    </tr>\n",
       "    <tr>\n",
       "      <th>4</th>\n",
       "      <td>1</td>\n",
       "      <td>0</td>\n",
       "      <td>64</td>\n",
       "      <td>3869200167</td>\n",
       "      <td>2760</td>\n",
       "      <td>25</td>\n",
       "    </tr>\n",
       "    <tr>\n",
       "      <th>...</th>\n",
       "      <td>...</td>\n",
       "      <td>...</td>\n",
       "      <td>...</td>\n",
       "      <td>...</td>\n",
       "      <td>...</td>\n",
       "      <td>...</td>\n",
       "    </tr>\n",
       "    <tr>\n",
       "      <th>10995</th>\n",
       "      <td>1</td>\n",
       "      <td>0</td>\n",
       "      <td>139</td>\n",
       "      <td>3869200277</td>\n",
       "      <td>204</td>\n",
       "      <td>0</td>\n",
       "    </tr>\n",
       "    <tr>\n",
       "      <th>10996</th>\n",
       "      <td>1</td>\n",
       "      <td>0</td>\n",
       "      <td>61</td>\n",
       "      <td>3869200277</td>\n",
       "      <td>202</td>\n",
       "      <td>20</td>\n",
       "    </tr>\n",
       "    <tr>\n",
       "      <th>10997</th>\n",
       "      <td>1</td>\n",
       "      <td>0</td>\n",
       "      <td>63</td>\n",
       "      <td>3869200277</td>\n",
       "      <td>204</td>\n",
       "      <td>1</td>\n",
       "    </tr>\n",
       "    <tr>\n",
       "      <th>10998</th>\n",
       "      <td>1</td>\n",
       "      <td>0</td>\n",
       "      <td>59</td>\n",
       "      <td>3869200277</td>\n",
       "      <td>283</td>\n",
       "      <td>29</td>\n",
       "    </tr>\n",
       "    <tr>\n",
       "      <th>10999</th>\n",
       "      <td>1</td>\n",
       "      <td>0</td>\n",
       "      <td>63</td>\n",
       "      <td>3869200277</td>\n",
       "      <td>281</td>\n",
       "      <td>24</td>\n",
       "    </tr>\n",
       "  </tbody>\n",
       "</table>\n",
       "<p>11000 rows × 6 columns</p>\n",
       "</div>"
      ],
      "text/plain": [
       "       HEAD  FPGA  TDC_CHANNEL   ORBIT_CNT  BX_COUNTER  TDC_MEAS\n",
       "0         1     0          123  3869200167        2374        26\n",
       "1         1     0          124  3869200167        2374        27\n",
       "2         1     0           63  3869200167        2553        28\n",
       "3         1     0           64  3869200167        2558        19\n",
       "4         1     0           64  3869200167        2760        25\n",
       "...     ...   ...          ...         ...         ...       ...\n",
       "10995     1     0          139  3869200277         204         0\n",
       "10996     1     0           61  3869200277         202        20\n",
       "10997     1     0           63  3869200277         204         1\n",
       "10998     1     0           59  3869200277         283        29\n",
       "10999     1     0           63  3869200277         281        24\n",
       "\n",
       "[11000 rows x 6 columns]"
      ]
     },
     "execution_count": 7,
     "metadata": {},
     "output_type": "execute_result"
    }
   ],
   "source": [
    "file_name = \"./data/data_000637.txt\"\n",
    "N = 11000\n",
    "data = pd.read_csv(file_name, nrows = N)\n",
    "data"
   ]
  },
  {
   "cell_type": "markdown",
   "metadata": {},
   "source": [
    "2\\. Estimate the number of BX in a ORBIT (the value `x`).\n",
    "\n",
    "*Hint*: check when the BX counter reaches the maximum value before being reset to 0."
   ]
  },
  {
   "cell_type": "code",
   "execution_count": 22,
   "metadata": {},
   "outputs": [
    {
     "name": "stdout",
     "output_type": "stream",
     "text": [
      "The number of BX in an ORBIT is 2374\n"
     ]
    }
   ],
   "source": [
    "BX = data.loc[:,['BX_COUNTER']]\n",
    "BX.sort_values(by=\"BX_COUNTER\", ascending=False)\n",
    "print(\"The number of BX in an ORBIT is\", BX.iloc[0,0])"
   ]
  },
  {
   "cell_type": "markdown",
   "metadata": {},
   "source": [
    "3\\. Create a new column with the absolute time in ns (as a combination of the other three columns with timing information) since the beginning of the data acquisition, and convert the new column to a Time Series.\n",
    "\n",
    "*Hint:* introduce an offset to the absolute time such that the start of the data acquisition (i.e. the first entry) is zero."
   ]
  },
  {
   "cell_type": "code",
   "execution_count": 125,
   "metadata": {},
   "outputs": [
    {
     "name": "stdout",
     "output_type": "stream",
     "text": [
      "0                      0\n",
      "1                      1\n",
      "2         17314670751802\n",
      "3         17798320772793\n",
      "4         37337781621199\n",
      "              ...       \n",
      "10995    209904108553026\n",
      "10996    210097568566906\n",
      "10997    209904108553025\n",
      "10998    202262438003947\n",
      "10999    202455898017852\n",
      "Name: abs_time_ns, Length: 11000, dtype: int64\n"
     ]
    }
   ],
   "source": [
    "dfa = data.copy()\n",
    "dfa['abs_time_ns'] = dfa['ORBIT_CNT'] * dfa['BX_COUNTER'] * 25 + dfa['BX_COUNTER'] * 25 + dfa['TDC_MEAS']\n",
    "\n",
    "abs_time = dfa.loc[:,['abs_time_ns']]\n",
    "dfa['abs_time_ns'] = abs(abs_time.iloc[0,0] - dfa['abs_time_ns']) \n",
    "\n",
    "sr3 = pd.Series(dfa['abs_time_ns'], index=dfa.index)\n",
    "print(sr3)\n"
   ]
  },
  {
   "cell_type": "markdown",
   "metadata": {},
   "source": [
    "4\\. Find out the duration of the data taking in hours, minutes and seconds, by using the features of the Time Series. Perform this check reading the whole dataset."
   ]
  },
  {
   "cell_type": "code",
   "execution_count": 132,
   "metadata": {},
   "outputs": [
    {
     "name": "stdout",
     "output_type": "stream",
     "text": [
      "This is the duration of the data: 63 hours, 47 minutes, 17 seconds.\n"
     ]
    }
   ],
   "source": [
    "duration = pd.to_datetime(sr3)\n",
    "\n",
    "time = duration.max() - duration.min()\n",
    "\n",
    "hours, remainder = divmod(time.total_seconds(), 3600)\n",
    "minutes, seconds = divmod(remainder, 60)\n",
    "\n",
    "print(f\"This is the duration of the data: {int(hours)} hours, {int(minutes)} minutes, {int(seconds)} seconds.\")\n"
   ]
  },
  {
   "cell_type": "markdown",
   "metadata": {},
   "source": [
    "5\\. Use the `.groupby()` method to find out the noisy channels, i.e. the TDC channels with most counts (print to screen the top 3 and the corresponding counts)"
   ]
  },
  {
   "cell_type": "code",
   "execution_count": 79,
   "metadata": {},
   "outputs": [
    {
     "name": "stdout",
     "output_type": "stream",
     "text": [
      "These are the top three most noisy channels:\n",
      "TDC_CHANNEL\n",
      "139    941\n",
      "64     554\n",
      "63     548\n",
      "Name: TDC_CHANNEL, dtype: int64\n"
     ]
    }
   ],
   "source": [
    "df2 = data.groupby('TDC_CHANNEL')['TDC_CHANNEL'].count()\n",
    "\n",
    "top = df2.sort_values(ascending=False).head(3)\n",
    "\n",
    "print(\"These are the top three most noisy channels:\")\n",
    "\n",
    "print(top)\n"
   ]
  },
  {
   "cell_type": "markdown",
   "metadata": {},
   "source": [
    "6\\. Count the number of non-empty orbits (i.e. the number of orbits with at least one hit)."
   ]
  },
  {
   "cell_type": "code",
   "execution_count": 101,
   "metadata": {},
   "outputs": [
    {
     "name": "stdout",
     "output_type": "stream",
     "text": [
      "There are 110 non-empty orbits.\n"
     ]
    }
   ],
   "source": [
    "columns = data.iloc[:, [1,3]]\n",
    "df_query = columns.query('FPGA > 0')\n",
    "df3 = df_query.drop_duplicates(keep='first')\n",
    "print('There are', len(df3), 'non-empty orbits.')"
   ]
  },
  {
   "cell_type": "markdown",
   "metadata": {},
   "source": [
    "7\\. Count the number of unique orbits with at least one measurement from TDC_CHANNEL=139."
   ]
  },
  {
   "cell_type": "code",
   "execution_count": 94,
   "metadata": {},
   "outputs": [
    {
     "name": "stdout",
     "output_type": "stream",
     "text": [
      "There are 19 unique orbits with at least one measurement from TDC_CHANNEL = 139\n"
     ]
    }
   ],
   "source": [
    "dfq = data.query('TDC_CHANNEL == 139')\n",
    "dfl = dfq.iloc[:, 0:4]\n",
    "df4 = dfl.drop_duplicates(keep=False)\n",
    "\n",
    "print(\"There are\", len(df4), \"unique orbits with at least one measurement from TDC_CHANNEL = 139\")"
   ]
  },
  {
   "cell_type": "markdown",
   "metadata": {},
   "source": [
    "8\\. Create two Series (one for each FPGA) that have the TDC channel as index, and the number of counts for the corresponding TDC channel as values."
   ]
  },
  {
   "cell_type": "code",
   "execution_count": 119,
   "metadata": {},
   "outputs": [
    {
     "name": "stdout",
     "output_type": "stream",
     "text": [
      "This is the series for FPGA = 1 \n",
      " TDC_CHANNEL\n",
      "1      253\n",
      "2      275\n",
      "3      212\n",
      "4      220\n",
      "5      146\n",
      "      ... \n",
      "125      2\n",
      "126      1\n",
      "127     10\n",
      "128     11\n",
      "139    288\n",
      "Name: TDC_CHANNEL, Length: 116, dtype: int64\n",
      "This is the series for FPGA = 0 \n",
      " TDC_CHANNEL\n",
      "1        5.0\n",
      "2       10.0\n",
      "3        9.0\n",
      "4       12.0\n",
      "5       13.0\n",
      "       ...  \n",
      "125      NaN\n",
      "126      NaN\n",
      "127      NaN\n",
      "128      NaN\n",
      "139    653.0\n",
      "Name: TDC_CHANNEL, Length: 116, dtype: float64\n"
     ]
    }
   ],
   "source": [
    "index_series = data['TDC_CHANNEL']\n",
    "df81 = data.query('FPGA > 0')\n",
    "df80 = data.query('FPGA <= 0')\n",
    "\n",
    "fpga1 = df81.groupby('TDC_CHANNEL')['TDC_CHANNEL'].count()\n",
    "fpga0 = df80.groupby('TDC_CHANNEL')['TDC_CHANNEL'].count()\n",
    "\n",
    "sr1 = pd.Series(fpga1, index=fpga1.index)\n",
    "sr0 = pd.Series(fpga0, index=fpga1.index)\n",
    "print(\"This is the series for FPGA = 1 \\n\", sr1)\n",
    "print(\"This is the series for FPGA = 0 \\n\", sr0)"
   ]
  },
  {
   "cell_type": "markdown",
   "metadata": {},
   "source": [
    "9\\. **Optional:** Create two histograms (one for each FPGA) that show the number of counts for each TDC channel."
   ]
  },
  {
   "cell_type": "code",
   "execution_count": null,
   "metadata": {},
   "outputs": [],
   "source": []
  }
 ],
 "metadata": {
  "kernelspec": {
   "display_name": "Python 3 (ipykernel)",
   "language": "python",
   "name": "python3"
  },
  "language_info": {
   "codemirror_mode": {
    "name": "ipython",
    "version": 3
   },
   "file_extension": ".py",
   "mimetype": "text/x-python",
   "name": "python",
   "nbconvert_exporter": "python",
   "pygments_lexer": "ipython3",
   "version": "3.9.12"
  }
 },
 "nbformat": 4,
 "nbformat_minor": 2
}
